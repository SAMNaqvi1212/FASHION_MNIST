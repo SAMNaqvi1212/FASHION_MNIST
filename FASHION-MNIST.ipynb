{
  "nbformat": 4,
  "nbformat_minor": 0,
  "metadata": {
    "colab": {
      "name": "Untitled2.ipynb",
      "provenance": [],
      "collapsed_sections": []
    },
    "kernelspec": {
      "name": "python3",
      "display_name": "Python 3"
    },
    "language_info": {
      "name": "python"
    }
  },
  "cells": [
    {
      "cell_type": "code",
      "execution_count": 1,
      "metadata": {
        "id": "37ri79Wm_OyH"
      },
      "outputs": [],
      "source": [
        "#Importing the required libraries\n",
        "import torch\n",
        "import torch.nn as nn\n",
        "import numpy as np\n",
        "import pandas as pd\n",
        "import seaborn as sns\n",
        "import matplotlib.pyplot as plt\n",
        "from torchvision import datasets, transforms\n",
        "from torch.utils.data import DataLoader\n",
        "from torchvision.utils import make_grid\n",
        "from torchvision.transforms import ToTensor, Compose, Normalize \n",
        "import matplotlib.pyplot as plt\n",
        "%matplotlib inline\n"
      ]
    },
    {
      "cell_type": "code",
      "source": [
        "train_transform = transforms.ToTensor()\n",
        "test_transform = transforms.ToTensor()"
      ],
      "metadata": {
        "id": "kUucJp4U_ySa"
      },
      "execution_count": 2,
      "outputs": []
    },
    {
      "cell_type": "code",
      "source": [
        "#Importing the datasets\n",
        "train = datasets.FashionMNIST(root=\"data\",train=True,download=True,transform=train_transform)\n",
        "test = datasets.FashionMNIST(root=\"data\",train=False,download=True,transform=test_transform)"
      ],
      "metadata": {
        "id": "-6v8r7IfDH0g"
      },
      "execution_count": 3,
      "outputs": []
    },
    {
      "cell_type": "code",
      "source": [
        "train_dataloader = DataLoader(train,batch_size=10,shuffle=True)\n",
        "test_dataloader = DataLoader(test,batch_size=10,shuffle=False)"
      ],
      "metadata": {
        "id": "VDyqa63vqIpn"
      },
      "execution_count": 4,
      "outputs": []
    },
    {
      "cell_type": "code",
      "source": [
        "print(f\"Training_image_available:{len(train)}\")\n",
        "print(f\"Test_Image_available:{len(test)}\")"
      ],
      "metadata": {
        "colab": {
          "base_uri": "https://localhost:8080/"
        },
        "id": "hrVe8ZHqqNn9",
        "outputId": "6182e9a3-a3d9-4c9b-d529-7be86da738ef"
      },
      "execution_count": 5,
      "outputs": [
        {
          "output_type": "stream",
          "name": "stdout",
          "text": [
            "Training_image_available:60000\n",
            "Test_Image_available:10000\n"
          ]
        }
      ]
    },
    {
      "cell_type": "code",
      "source": [
        "train[7]"
      ],
      "metadata": {
        "colab": {
          "base_uri": "https://localhost:8080/"
        },
        "id": "HSRmZ7q3ye74",
        "outputId": "eb8acb9d-d940-4b4b-b723-d404957f4c07"
      },
      "execution_count": 6,
      "outputs": [
        {
          "output_type": "execute_result",
          "data": {
            "text/plain": [
              "(tensor([[[0.0000, 0.0000, 0.0000, 0.0000, 0.0000, 0.0039, 0.0039, 0.0000,\n",
              "           0.0000, 0.0000, 0.0000, 0.2471, 0.1098, 0.0000, 0.0000, 0.0000,\n",
              "           0.1294, 0.3333, 0.0000, 0.0000, 0.0000, 0.0000, 0.0000, 0.0000,\n",
              "           0.0000, 0.0000, 0.0000, 0.0000],\n",
              "          [0.0000, 0.0000, 0.0000, 0.0000, 0.0000, 0.0078, 0.0000, 0.0000,\n",
              "           0.1098, 0.4941, 0.9451, 1.0000, 1.0000, 1.0000, 1.0000, 1.0000,\n",
              "           1.0000, 0.9882, 0.9725, 0.4353, 0.0000, 0.0000, 0.0000, 0.0078,\n",
              "           0.0000, 0.0000, 0.0000, 0.0000],\n",
              "          [0.0000, 0.0000, 0.0000, 0.0000, 0.0078, 0.0000, 0.0000, 0.8078,\n",
              "           0.9569, 0.9843, 0.9451, 0.9020, 0.9333, 0.8667, 0.8039, 0.9020,\n",
              "           0.9412, 0.9020, 0.9373, 0.9843, 0.9137, 0.6471, 0.0000, 0.0000,\n",
              "           0.0078, 0.0000, 0.0000, 0.0000],\n",
              "          [0.0000, 0.0000, 0.0000, 0.0039, 0.0000, 0.0000, 0.7804, 0.9843,\n",
              "           0.8941, 0.9176, 0.9137, 0.9255, 0.9216, 0.9608, 0.9686, 0.9294,\n",
              "           0.9176, 0.9373, 0.9020, 0.9020, 0.9216, 1.0000, 0.6902, 0.0000,\n",
              "           0.0000, 0.0039, 0.0000, 0.0000],\n",
              "          [0.0000, 0.0000, 0.0000, 0.0000, 0.0000, 0.3176, 0.9961, 0.8863,\n",
              "           0.8941, 0.9373, 0.9294, 0.9255, 0.9176, 0.9098, 0.9137, 0.9216,\n",
              "           0.9216, 0.9255, 0.9373, 0.9294, 0.9137, 0.8824, 0.9647, 0.2863,\n",
              "           0.0000, 0.0000, 0.0000, 0.0000],\n",
              "          [0.0000, 0.0000, 0.0118, 0.0000, 0.0000, 1.0000, 0.9216, 0.9373,\n",
              "           0.8745, 0.9176, 0.9333, 0.9255, 0.9294, 0.9255, 0.9216, 0.9216,\n",
              "           0.9216, 0.9216, 0.9255, 0.9216, 0.9176, 0.9020, 0.9059, 1.0000,\n",
              "           0.0941, 0.0000, 0.0157, 0.0000],\n",
              "          [0.0000, 0.0000, 0.0000, 0.0000, 0.6941, 0.9373, 0.8745, 0.9961,\n",
              "           0.8745, 0.9098, 0.9176, 0.9176, 0.9255, 0.9255, 0.9216, 0.9216,\n",
              "           0.9216, 0.9216, 0.9216, 0.9176, 0.9059, 0.9137, 0.8706, 0.9647,\n",
              "           0.3451, 0.0000, 0.0039, 0.0000],\n",
              "          [0.0000, 0.0000, 0.0000, 0.0000, 0.9176, 0.9373, 0.8980, 1.0000,\n",
              "           0.8627, 0.9098, 0.9137, 0.9098, 0.9176, 0.9216, 0.9216, 0.9216,\n",
              "           0.9216, 0.9216, 0.9176, 0.9137, 0.9098, 0.9020, 0.8941, 0.9961,\n",
              "           0.5490, 0.0000, 0.0000, 0.0000],\n",
              "          [0.0000, 0.0000, 0.0000, 0.0000, 0.8824, 0.9412, 0.8863, 1.0000,\n",
              "           0.8667, 0.8902, 0.9098, 0.8941, 0.9059, 0.9020, 0.8941, 0.8980,\n",
              "           0.9059, 0.9020, 0.8941, 0.8941, 0.9098, 0.8745, 0.8980, 0.9569,\n",
              "           0.9059, 0.0000, 0.0000, 0.0000],\n",
              "          [0.0000, 0.0000, 0.0000, 0.1843, 0.9608, 0.9059, 0.9176, 0.9765,\n",
              "           0.8980, 0.8667, 0.8980, 0.8824, 0.8980, 0.8902, 0.8863, 0.8902,\n",
              "           0.8941, 0.8902, 0.8941, 0.8980, 0.8941, 0.8784, 0.9647, 0.9412,\n",
              "           0.8902, 0.0000, 0.0000, 0.0000],\n",
              "          [0.0000, 0.0000, 0.0000, 0.2000, 0.9725, 0.9020, 0.9608, 0.9647,\n",
              "           0.9020, 0.8863, 0.9020, 0.8902, 0.9020, 0.8980, 0.8941, 0.8980,\n",
              "           0.9020, 0.8941, 0.8941, 0.9059, 0.8824, 0.8902, 0.9490, 0.9294,\n",
              "           1.0000, 0.0000, 0.0000, 0.0000],\n",
              "          [0.0000, 0.0000, 0.0000, 0.3961, 0.9922, 0.8980, 0.9686, 0.9451,\n",
              "           0.8667, 0.9137, 0.8941, 0.8902, 0.8980, 0.8941, 0.8902, 0.8941,\n",
              "           0.9020, 0.8902, 0.9020, 0.9176, 0.8824, 0.8980, 0.9843, 0.8980,\n",
              "           0.9529, 0.2157, 0.0000, 0.0000],\n",
              "          [0.0000, 0.0000, 0.0000, 0.4000, 1.0000, 0.8902, 0.9490, 0.9451,\n",
              "           0.8667, 0.9176, 0.8745, 0.9020, 0.8941, 0.9059, 0.8980, 0.9059,\n",
              "           0.9059, 0.8902, 0.8980, 0.9451, 0.8588, 0.9255, 0.9961, 0.8824,\n",
              "           0.9804, 0.6549, 0.0000, 0.0000],\n",
              "          [0.0000, 0.0000, 0.0000, 0.3529, 1.0000, 0.8980, 0.9255, 0.9059,\n",
              "           0.8706, 0.9255, 0.8745, 0.9059, 0.8980, 0.9059, 0.8980, 0.9059,\n",
              "           0.9059, 0.8941, 0.8784, 0.9608, 0.8549, 0.9529, 0.9373, 0.8902,\n",
              "           0.9569, 0.6863, 0.0000, 0.0000],\n",
              "          [0.0000, 0.0000, 0.0000, 0.8314, 0.9804, 0.8824, 0.9255, 0.9765,\n",
              "           0.8980, 0.9294, 0.8745, 0.9059, 0.8980, 0.9059, 0.8980, 0.9059,\n",
              "           0.9059, 0.9020, 0.8667, 0.9529, 0.8824, 0.9725, 0.9020, 0.9255,\n",
              "           0.9176, 1.0000, 0.0039, 0.0000],\n",
              "          [0.0000, 0.0000, 0.0000, 0.9608, 0.9529, 0.9098, 0.9529, 0.8549,\n",
              "           0.8941, 0.9333, 0.8706, 0.9059, 0.8980, 0.9059, 0.8980, 0.9059,\n",
              "           0.9059, 0.9020, 0.8706, 0.9294, 0.9294, 0.9882, 0.8980, 0.9373,\n",
              "           0.9412, 0.8745, 0.0000, 0.0000],\n",
              "          [0.0000, 0.0000, 0.1059, 1.0000, 0.9216, 0.9490, 0.9294, 0.8471,\n",
              "           0.9020, 0.9255, 0.8784, 0.8980, 0.8902, 0.9137, 0.9137, 0.9137,\n",
              "           0.9020, 0.8941, 0.8784, 0.9020, 0.9608, 0.9686, 0.8667, 0.9529,\n",
              "           0.9373, 0.9882, 0.0000, 0.0000],\n",
              "          [0.0000, 0.0000, 0.3451, 1.0000, 0.9098, 0.9725, 0.9255, 0.8157,\n",
              "           0.9176, 0.9059, 0.8745, 0.8902, 0.8863, 0.9137, 0.9098, 0.9098,\n",
              "           0.9020, 0.8941, 0.8784, 0.8784, 0.9216, 0.9137, 0.9176, 0.9686,\n",
              "           0.9216, 1.0000, 0.0000, 0.0000],\n",
              "          [0.0000, 0.0000, 0.3255, 1.0000, 0.8824, 0.9804, 0.9294, 0.8784,\n",
              "           0.9255, 0.8980, 0.8824, 0.8824, 0.8902, 0.9216, 0.8980, 0.9059,\n",
              "           0.9020, 0.9020, 0.8902, 0.8667, 0.8902, 0.8667, 0.9373, 0.9804,\n",
              "           0.9059, 1.0000, 0.0000, 0.0000],\n",
              "          [0.0000, 0.0000, 0.0784, 1.0000, 0.8784, 0.9725, 0.9176, 0.8863,\n",
              "           0.9098, 0.8706, 0.8824, 0.8784, 0.9059, 0.9333, 0.8863, 0.9020,\n",
              "           0.8941, 0.9020, 0.9020, 0.8667, 0.8980, 0.8824, 0.9569, 0.9647,\n",
              "           0.9020, 1.0000, 0.0000, 0.0000],\n",
              "          [0.0000, 0.0000, 0.3725, 1.0000, 0.8549, 0.9490, 1.0000, 0.9098,\n",
              "           0.8863, 0.8784, 0.8980, 0.8941, 0.8941, 0.9098, 0.8941, 0.8980,\n",
              "           0.9059, 0.9137, 0.9098, 0.8863, 0.8667, 0.8784, 0.9686, 0.9569,\n",
              "           0.8941, 1.0000, 0.0000, 0.0000],\n",
              "          [0.0000, 0.0000, 0.6549, 1.0000, 0.8353, 0.9216, 1.0000, 0.3176,\n",
              "           0.9608, 0.9843, 0.9333, 0.9255, 0.9020, 0.8980, 0.9020, 0.8980,\n",
              "           0.9020, 0.9059, 0.9333, 0.9412, 1.0000, 0.7529, 1.0000, 0.9373,\n",
              "           0.8941, 1.0000, 0.0902, 0.0000],\n",
              "          [0.0000, 0.0000, 0.6784, 0.9490, 0.8784, 0.9137, 1.0000, 0.0000,\n",
              "           0.5333, 0.8863, 0.9373, 1.0000, 0.8980, 0.9255, 0.9255, 0.9176,\n",
              "           0.9137, 0.8941, 0.9843, 0.9725, 0.7843, 0.3176, 1.0000, 0.9294,\n",
              "           0.8824, 1.0000, 0.3961, 0.0000],\n",
              "          [0.0000, 0.0000, 0.6745, 1.0000, 0.8863, 0.9137, 1.0000, 0.0000,\n",
              "           0.0000, 0.0000, 0.0000, 0.0000, 0.0314, 0.0824, 0.0863, 0.0824,\n",
              "           0.0784, 0.0549, 0.0000, 0.0000, 0.0000, 0.0000, 1.0000, 0.9333,\n",
              "           0.8980, 0.9647, 0.6980, 0.0000],\n",
              "          [0.0000, 0.0000, 0.0627, 1.0000, 0.9255, 0.9333, 0.9882, 0.0000,\n",
              "           0.0000, 0.0000, 0.0000, 0.0000, 0.0000, 0.0000, 0.0000, 0.0000,\n",
              "           0.0000, 0.0000, 0.0000, 0.0000, 0.0000, 0.0000, 0.8706, 0.9569,\n",
              "           0.8706, 0.9961, 0.4667, 0.0000],\n",
              "          [0.0000, 0.0000, 0.0000, 0.1176, 0.8941, 0.9490, 0.6392, 0.0000,\n",
              "           0.0000, 0.0000, 0.0000, 0.0078, 0.0157, 0.0235, 0.0196, 0.0196,\n",
              "           0.0157, 0.0157, 0.0078, 0.0000, 0.0039, 0.0000, 0.5922, 0.9843,\n",
              "           0.9216, 0.7059, 0.0000, 0.0000],\n",
              "          [0.0000, 0.0000, 0.0000, 0.0000, 0.9176, 1.0000, 0.7490, 0.0000,\n",
              "           0.0431, 0.0000, 0.0000, 0.0000, 0.0000, 0.0000, 0.0000, 0.0000,\n",
              "           0.0000, 0.0000, 0.0000, 0.0000, 0.0157, 0.0000, 0.4039, 0.9647,\n",
              "           0.9686, 0.2824, 0.0000, 0.0000],\n",
              "          [0.0000, 0.0000, 0.0000, 0.0039, 0.3725, 0.3020, 0.2039, 0.0000,\n",
              "           0.0157, 0.0000, 0.0000, 0.0000, 0.0000, 0.0000, 0.0000, 0.0000,\n",
              "           0.0000, 0.0000, 0.0000, 0.0000, 0.0118, 0.0000, 0.3216, 0.9294,\n",
              "           0.9059, 0.2745, 0.0000, 0.0000]]]), 2)"
            ]
          },
          "metadata": {},
          "execution_count": 6
        }
      ]
    },
    {
      "cell_type": "code",
      "source": [
        "image,label = train[5]\n",
        "print(f\"shape:{image.shape} \\nlabel:{label}\")"
      ],
      "metadata": {
        "colab": {
          "base_uri": "https://localhost:8080/"
        },
        "id": "anHI_p-HyhOo",
        "outputId": "fda0e70b-4f27-4200-e3c6-fd2c59c3f686"
      },
      "execution_count": 7,
      "outputs": [
        {
          "output_type": "stream",
          "name": "stdout",
          "text": [
            "shape:torch.Size([1, 28, 28]) \n",
            "label:2\n"
          ]
        }
      ]
    },
    {
      "cell_type": "code",
      "source": [
        "#Displaying the image of one of the labels in the dataset\n",
        "plt.figure(figsize=(10,8))\n",
        "plt.imshow(train[5][0].reshape((28,28)),cmap=\"gist_yarg\");"
      ],
      "metadata": {
        "colab": {
          "base_uri": "https://localhost:8080/",
          "height": 483
        },
        "id": "Vv1WZttYzL9y",
        "outputId": "dd83060d-4045-4f86-d65a-fe0580f4cbbf"
      },
      "execution_count": 8,
      "outputs": [
        {
          "output_type": "display_data",
          "data": {
            "image/png": "[encoded data removed]",
            "text/plain": [
              "<Figure size 720x576 with 1 Axes>"
            ]
          },
          "metadata": {
            "needs_background": "light"
          }
        }
      ]
    },
    {
      "cell_type": "code",
      "source": [
        "plt.figure(figsize=(10,8))\n",
        "plt.imshow(train[9][0].reshape(28,28),cmap=\"BuGn_r\");"
      ],
      "metadata": {
        "colab": {
          "base_uri": "https://localhost:8080/",
          "height": 483
        },
        "id": "Cn_oaE7MzRCJ",
        "outputId": "9bb40e6d-17c3-4f9f-af6f-330fcef23780"
      },
      "execution_count": 9,
      "outputs": [
        {
          "output_type": "display_data",
          "data": {
            "image/png": "[encoded data removed]",
            "text/plain": [
              "<Figure size 720x576 with 1 Axes>"
            ]
          },
          "metadata": {
            "needs_background": "light"
          }
        }
      ]
    },
    {
      "cell_type": "code",
      "source": [
        "#Building the neural network model\n",
        "class neuralnetwork(nn.Module):\n",
        "  def __init__(self):\n",
        "    super().__init__()\n",
        "    self.flatten = nn.Flatten()\n",
        "    self.relu_stack = nn.Sequential(\n",
        "        nn.Linear(28*28,512),\n",
        "        nn.ReLU(),\n",
        "        nn.Linear(512,412),\n",
        "        nn.ReLU(),\n",
        "        nn.Linear(412,100),\n",
        "        nn.ReLU(),\n",
        "        nn.Linear(100,10)\n",
        ")\n",
        "  def forward(self,x):\n",
        "    x =self.flatten(x)\n",
        "    logits = self.relu_stack(x)\n",
        "    return logits\n",
        "    \n"
      ],
      "metadata": {
        "id": "x2F7krUh0HbR"
      },
      "execution_count": 10,
      "outputs": []
    },
    {
      "cell_type": "code",
      "source": [
        "model = neuralnetwork()"
      ],
      "metadata": {
        "id": "RiRgqt0YUGHw"
      },
      "execution_count": 11,
      "outputs": []
    },
    {
      "cell_type": "code",
      "source": [
        "#The model contains four linear layers with a ReLU-unit as an activation function\n",
        "model"
      ],
      "metadata": {
        "colab": {
          "base_uri": "https://localhost:8080/"
        },
        "id": "9X34tC_dqhwI",
        "outputId": "ae9eed62-011d-4d95-e8cc-be111fd61b9c"
      },
      "execution_count": 12,
      "outputs": [
        {
          "output_type": "execute_result",
          "data": {
            "text/plain": [
              "neuralnetwork(\n",
              "  (flatten): Flatten(start_dim=1, end_dim=-1)\n",
              "  (relu_stack): Sequential(\n",
              "    (0): Linear(in_features=784, out_features=512, bias=True)\n",
              "    (1): ReLU()\n",
              "    (2): Linear(in_features=512, out_features=412, bias=True)\n",
              "    (3): ReLU()\n",
              "    (4): Linear(in_features=412, out_features=100, bias=True)\n",
              "    (5): ReLU()\n",
              "    (6): Linear(in_features=100, out_features=10, bias=True)\n",
              "  )\n",
              ")"
            ]
          },
          "metadata": {},
          "execution_count": 12
        }
      ]
    },
    {
      "cell_type": "code",
      "source": [
        "criterion = nn.CrossEntropyLoss()\n",
        "optimizer = torch.optim.SGD(model.parameters(),lr=0.001)"
      ],
      "metadata": {
        "id": "cbIdGLT0qt94"
      },
      "execution_count": 13,
      "outputs": []
    },
    {
      "cell_type": "code",
      "source": [
        "#Training and testing the model for the given data-sets for ten epochs.\n",
        "import time\n",
        "start_time = time.time()\n",
        "train_losses=[]\n",
        "train_correct = []\n",
        "test_losses=[]\n",
        "test_correct= []\n",
        "\n",
        "epochs = 10  \n",
        "\n",
        "for i in range(epochs):\n",
        "  trn_corr = 0\n",
        "  tst_corr = 0\n",
        "  for b,(X_train,y_train) in enumerate(train_dataloader):\n",
        "    b+=1\n",
        "    y_preds = model(X_train)\n",
        "    losses = criterion(y_preds,y_train)\n",
        "    predicted = torch.max(y_preds.data,1)[1]\n",
        "    batch_corr = (predicted==y_train).sum()\n",
        "    trn_corr += batch_corr \n",
        "\n",
        "    optimizer.zero_grad()\n",
        "    losses.backward()\n",
        "    optimizer.step()\n",
        "\n",
        "    #Print interim results\n",
        "    if b%600==0:\n",
        "      print(f\"epoch:{i:2}, batch:{b:4} [{10*b:6}/60000], loss:{losses.item():10.8f}, accuracy: {trn_corr.item()*100/(10*b):7.3f}%\")\n",
        "  train_losses.append(losses)\n",
        "  train_correct.append(trn_corr)\n",
        "\n",
        "  with torch.no_grad():\n",
        "    for b,(X_test,y_test) in enumerate(test_dataloader):\n",
        "      b+=1\n",
        "      y_val = model(X_test)\n",
        "      loss_test = criterion(y_val,y_test)\n",
        "      predicted = torch.max(y_val.data,1)[1]\n",
        "      batch_corr_1 = (predicted==y_test).sum()\n",
        "      tst_corr+= batch_corr_1\n",
        "  \n",
        "  test_losses.append(loss_test)\n",
        "  test_correct.append(tst_corr) "
      ],
      "metadata": {
        "colab": {
          "base_uri": "https://localhost:8080/"
        },
        "id": "HtfxZmotwqsR",
        "outputId": "068222ab-f711-403d-cafe-b69d1b190a87"
      },
      "execution_count": 14,
      "outputs": [
        {
          "output_type": "stream",
          "name": "stdout",
          "text": [
            "epoch: 0, batch: 600 [  6000/60000], loss:2.31972575, accuracy:  10.800%\n",
            "epoch: 0, batch:1200 [ 12000/60000], loss:2.27809525, accuracy:  11.117%\n",
            "epoch: 0, batch:1800 [ 18000/60000], loss:2.21080732, accuracy:  12.156%\n",
            "epoch: 0, batch:2400 [ 24000/60000], loss:2.16994953, accuracy:  15.079%\n",
            "epoch: 0, batch:3000 [ 30000/60000], loss:2.07875347, accuracy:  17.507%\n",
            "epoch: 0, batch:3600 [ 36000/60000], loss:2.11568069, accuracy:  19.167%\n",
            "epoch: 0, batch:4200 [ 42000/60000], loss:1.77778602, accuracy:  21.314%\n",
            "epoch: 0, batch:4800 [ 48000/60000], loss:1.65582812, accuracy:  23.904%\n",
            "epoch: 0, batch:5400 [ 54000/60000], loss:1.59798491, accuracy:  26.994%\n",
            "epoch: 0, batch:6000 [ 60000/60000], loss:1.44393563, accuracy:  29.638%\n",
            "epoch: 1, batch: 600 [  6000/60000], loss:1.55434537, accuracy:  54.983%\n",
            "epoch: 1, batch:1200 [ 12000/60000], loss:1.22167277, accuracy:  57.258%\n",
            "epoch: 1, batch:1800 [ 18000/60000], loss:0.96960890, accuracy:  59.022%\n",
            "epoch: 1, batch:2400 [ 24000/60000], loss:1.32893050, accuracy:  60.321%\n",
            "epoch: 1, batch:3000 [ 30000/60000], loss:1.04260075, accuracy:  61.190%\n",
            "epoch: 1, batch:3600 [ 36000/60000], loss:1.15164661, accuracy:  62.086%\n",
            "epoch: 1, batch:4200 [ 42000/60000], loss:1.32343841, accuracy:  62.817%\n",
            "epoch: 1, batch:4800 [ 48000/60000], loss:1.17311418, accuracy:  63.450%\n",
            "epoch: 1, batch:5400 [ 54000/60000], loss:0.80307484, accuracy:  64.019%\n",
            "epoch: 1, batch:6000 [ 60000/60000], loss:0.84767497, accuracy:  64.508%\n",
            "epoch: 2, batch: 600 [  6000/60000], loss:1.19005752, accuracy:  70.067%\n",
            "epoch: 2, batch:1200 [ 12000/60000], loss:0.72312552, accuracy:  70.567%\n",
            "epoch: 2, batch:1800 [ 18000/60000], loss:0.67780840, accuracy:  70.944%\n",
            "epoch: 2, batch:2400 [ 24000/60000], loss:0.99936503, accuracy:  71.229%\n",
            "epoch: 2, batch:3000 [ 30000/60000], loss:0.51893777, accuracy:  71.573%\n",
            "epoch: 2, batch:3600 [ 36000/60000], loss:0.67787278, accuracy:  71.814%\n",
            "epoch: 2, batch:4200 [ 42000/60000], loss:0.61581522, accuracy:  72.217%\n",
            "epoch: 2, batch:4800 [ 48000/60000], loss:0.34982011, accuracy:  72.515%\n",
            "epoch: 2, batch:5400 [ 54000/60000], loss:0.74610120, accuracy:  72.693%\n",
            "epoch: 2, batch:6000 [ 60000/60000], loss:0.73194814, accuracy:  72.880%\n",
            "epoch: 3, batch: 600 [  6000/60000], loss:0.88367397, accuracy:  75.483%\n",
            "epoch: 3, batch:1200 [ 12000/60000], loss:0.78157699, accuracy:  75.408%\n",
            "epoch: 3, batch:1800 [ 18000/60000], loss:0.71164221, accuracy:  75.767%\n",
            "epoch: 3, batch:2400 [ 24000/60000], loss:0.46063918, accuracy:  75.792%\n",
            "epoch: 3, batch:3000 [ 30000/60000], loss:0.51500291, accuracy:  75.953%\n",
            "epoch: 3, batch:3600 [ 36000/60000], loss:0.90604532, accuracy:  76.083%\n",
            "epoch: 3, batch:4200 [ 42000/60000], loss:0.55473983, accuracy:  76.229%\n",
            "epoch: 3, batch:4800 [ 48000/60000], loss:0.37710989, accuracy:  76.452%\n",
            "epoch: 3, batch:5400 [ 54000/60000], loss:0.70313901, accuracy:  76.539%\n",
            "epoch: 3, batch:6000 [ 60000/60000], loss:0.45016679, accuracy:  76.647%\n",
            "epoch: 4, batch: 600 [  6000/60000], loss:0.68233907, accuracy:  78.150%\n",
            "epoch: 4, batch:1200 [ 12000/60000], loss:0.31068212, accuracy:  78.008%\n",
            "epoch: 4, batch:1800 [ 18000/60000], loss:0.40242749, accuracy:  77.861%\n",
            "epoch: 4, batch:2400 [ 24000/60000], loss:0.33938134, accuracy:  78.054%\n",
            "epoch: 4, batch:3000 [ 30000/60000], loss:0.22742982, accuracy:  78.290%\n",
            "epoch: 4, batch:3600 [ 36000/60000], loss:0.53320444, accuracy:  78.289%\n",
            "epoch: 4, batch:4200 [ 42000/60000], loss:0.72306156, accuracy:  78.367%\n",
            "epoch: 4, batch:4800 [ 48000/60000], loss:0.55846751, accuracy:  78.446%\n",
            "epoch: 4, batch:5400 [ 54000/60000], loss:0.51147902, accuracy:  78.524%\n",
            "epoch: 4, batch:6000 [ 60000/60000], loss:0.19488932, accuracy:  78.642%\n",
            "epoch: 5, batch: 600 [  6000/60000], loss:0.76095402, accuracy:  79.633%\n",
            "epoch: 5, batch:1200 [ 12000/60000], loss:0.44167987, accuracy:  79.825%\n",
            "epoch: 5, batch:1800 [ 18000/60000], loss:0.53265601, accuracy:  79.683%\n",
            "epoch: 5, batch:2400 [ 24000/60000], loss:0.49004236, accuracy:  80.017%\n",
            "epoch: 5, batch:3000 [ 30000/60000], loss:0.43648791, accuracy:  80.133%\n",
            "epoch: 5, batch:3600 [ 36000/60000], loss:0.99799883, accuracy:  80.164%\n",
            "epoch: 5, batch:4200 [ 42000/60000], loss:0.39264250, accuracy:  80.212%\n",
            "epoch: 5, batch:4800 [ 48000/60000], loss:0.46696052, accuracy:  80.248%\n",
            "epoch: 5, batch:5400 [ 54000/60000], loss:0.20156439, accuracy:  80.270%\n",
            "epoch: 5, batch:6000 [ 60000/60000], loss:0.50099808, accuracy:  80.340%\n",
            "epoch: 6, batch: 600 [  6000/60000], loss:0.45112744, accuracy:  82.117%\n",
            "epoch: 6, batch:1200 [ 12000/60000], loss:0.37423769, accuracy:  81.700%\n",
            "epoch: 6, batch:1800 [ 18000/60000], loss:1.18771517, accuracy:  81.150%\n",
            "epoch: 6, batch:2400 [ 24000/60000], loss:0.71431577, accuracy:  81.467%\n",
            "epoch: 6, batch:3000 [ 30000/60000], loss:0.53970689, accuracy:  81.303%\n",
            "epoch: 6, batch:3600 [ 36000/60000], loss:0.53127456, accuracy:  81.256%\n",
            "epoch: 6, batch:4200 [ 42000/60000], loss:0.65125847, accuracy:  81.281%\n",
            "epoch: 6, batch:4800 [ 48000/60000], loss:0.42617816, accuracy:  81.319%\n",
            "epoch: 6, batch:5400 [ 54000/60000], loss:0.23850739, accuracy:  81.357%\n",
            "epoch: 6, batch:6000 [ 60000/60000], loss:0.42196426, accuracy:  81.377%\n",
            "epoch: 7, batch: 600 [  6000/60000], loss:0.65616053, accuracy:  82.417%\n",
            "epoch: 7, batch:1200 [ 12000/60000], loss:0.33743566, accuracy:  82.375%\n",
            "epoch: 7, batch:1800 [ 18000/60000], loss:0.24951050, accuracy:  82.622%\n",
            "epoch: 7, batch:2400 [ 24000/60000], loss:0.63615298, accuracy:  82.367%\n",
            "epoch: 7, batch:3000 [ 30000/60000], loss:0.75032437, accuracy:  82.397%\n",
            "epoch: 7, batch:3600 [ 36000/60000], loss:0.34310383, accuracy:  82.261%\n",
            "epoch: 7, batch:4200 [ 42000/60000], loss:0.48439083, accuracy:  82.274%\n",
            "epoch: 7, batch:4800 [ 48000/60000], loss:0.36119846, accuracy:  82.290%\n",
            "epoch: 7, batch:5400 [ 54000/60000], loss:0.88889778, accuracy:  82.307%\n",
            "epoch: 7, batch:6000 [ 60000/60000], loss:0.41694307, accuracy:  82.377%\n",
            "epoch: 8, batch: 600 [  6000/60000], loss:0.24107757, accuracy:  82.150%\n",
            "epoch: 8, batch:1200 [ 12000/60000], loss:0.57123423, accuracy:  82.767%\n",
            "epoch: 8, batch:1800 [ 18000/60000], loss:0.46794373, accuracy:  82.839%\n",
            "epoch: 8, batch:2400 [ 24000/60000], loss:1.87413406, accuracy:  82.908%\n",
            "epoch: 8, batch:3000 [ 30000/60000], loss:0.13731343, accuracy:  82.887%\n",
            "epoch: 8, batch:3600 [ 36000/60000], loss:0.07466724, accuracy:  82.867%\n",
            "epoch: 8, batch:4200 [ 42000/60000], loss:0.50731802, accuracy:  82.907%\n",
            "epoch: 8, batch:4800 [ 48000/60000], loss:0.57617676, accuracy:  82.963%\n",
            "epoch: 8, batch:5400 [ 54000/60000], loss:0.48932561, accuracy:  83.043%\n",
            "epoch: 8, batch:6000 [ 60000/60000], loss:0.38885683, accuracy:  83.077%\n",
            "epoch: 9, batch: 600 [  6000/60000], loss:0.06579126, accuracy:  82.867%\n",
            "epoch: 9, batch:1200 [ 12000/60000], loss:0.17584369, accuracy:  83.300%\n",
            "epoch: 9, batch:1800 [ 18000/60000], loss:0.12429023, accuracy:  83.367%\n",
            "epoch: 9, batch:2400 [ 24000/60000], loss:0.65716946, accuracy:  83.412%\n",
            "epoch: 9, batch:3000 [ 30000/60000], loss:0.31680349, accuracy:  83.397%\n",
            "epoch: 9, batch:3600 [ 36000/60000], loss:0.22940631, accuracy:  83.392%\n",
            "epoch: 9, batch:4200 [ 42000/60000], loss:0.48332438, accuracy:  83.481%\n",
            "epoch: 9, batch:4800 [ 48000/60000], loss:0.35057992, accuracy:  83.698%\n",
            "epoch: 9, batch:5400 [ 54000/60000], loss:0.36749223, accuracy:  83.600%\n",
            "epoch: 9, batch:6000 [ 60000/60000], loss:0.25610092, accuracy:  83.572%\n"
          ]
        }
      ]
    },
    {
      "cell_type": "code",
      "source": [
        "\n",
        "\n"
      ],
      "metadata": {
        "id": "DFeII4NREWI7"
      },
      "execution_count": 14,
      "outputs": []
    },
    {
      "cell_type": "code",
      "source": [
        "#Plotting the training and test losses.\n",
        "plt.figure(figsize=(10,8))\n",
        "plt.plot(train_losses, label='training loss')\n",
        "plt.plot(test_losses, label='validation loss')\n",
        "plt.title('Loss at the end of each epoch')\n",
        "plt.legend();"
      ],
      "metadata": {
        "id": "57m6diCXIQCl",
        "colab": {
          "base_uri": "https://localhost:8080/",
          "height": 499
        },
        "outputId": "fb1a68ab-e2bc-47a9-e36e-faacc037e3cf"
      },
      "execution_count": 15,
      "outputs": [
        {
          "output_type": "display_data",
          "data": {
            "image/png": "[encoded data removed]",
            "text/plain": [
              "<Figure size 720x576 with 1 Axes>"
            ]
          },
          "metadata": {
            "needs_background": "light"
          }
        }
      ]
    },
    {
      "cell_type": "code",
      "source": [
        "#Evaluating the model on a random sample from the given data-set.\n",
        "classes = [\n",
        "            \"T-shirt/top\",\n",
        "    \"Trouser\",\n",
        "    \"Pullover\",\n",
        "    \"Dress\",\n",
        "    \"Coat\",\n",
        "    \"Sandal\",\n",
        "    \"Shirt\",\n",
        "    \"Sneaker\",\n",
        "    \"Bag\",\n",
        "    \"Ankle boot\",\n",
        "]\n",
        "model.eval()\n",
        "x,y = test[5][0],test[5][1]\n",
        "with torch.no_grad():\n",
        "  pred_1 = model(x)\n",
        "  predicted,actual = classes[pred_1[0].argmax(0)], classes[y]\n",
        "  print(f\"Predicted: {predicted}, Actual: {actual}\")"
      ],
      "metadata": {
        "id": "-H69_3WtPMFQ",
        "colab": {
          "base_uri": "https://localhost:8080/"
        },
        "outputId": "09084b82-8137-49f1-956c-b7cdef75df64"
      },
      "execution_count": 27,
      "outputs": [
        {
          "output_type": "stream",
          "name": "stdout",
          "text": [
            "Predicted: Trouser, Actual: Trouser\n"
          ]
        }
      ]
    },
    {
      "cell_type": "code",
      "source": [
        ""
      ],
      "metadata": {
        "id": "5nSriwGUAEy3"
      },
      "execution_count": 16,
      "outputs": []
    }
  ]
}